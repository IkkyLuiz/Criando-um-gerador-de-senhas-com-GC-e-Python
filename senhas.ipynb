{
  "nbformat": 4,
  "nbformat_minor": 0,
  "metadata": {
    "colab": {
      "provenance": [],
      "authorship_tag": "ABX9TyOCGtJvvT8lapHQN6Ym+oEj",
      "include_colab_link": true
    },
    "kernelspec": {
      "name": "python3",
      "display_name": "Python 3"
    },
    "language_info": {
      "name": "python"
    }
  },
  "cells": [
    {
      "cell_type": "markdown",
      "metadata": {
        "id": "view-in-github",
        "colab_type": "text"
      },
      "source": [
        "<a href=\"https://colab.research.google.com/github/IkkyLuiz/Criando-um-gerador-de-senhas-com-GC-e-Pytohn/blob/main/senhas.ipynb\" target=\"_parent\"><img src=\"https://colab.research.google.com/assets/colab-badge.svg\" alt=\"Open In Colab\"/></a>"
      ]
    },
    {
      "cell_type": "code",
      "execution_count": null,
      "metadata": {
        "colab": {
          "base_uri": "https://localhost:8080/"
        },
        "id": "JDjPKpfB9cvP",
        "outputId": "e8d7d8c9-28fd-45af-ae06-7b69af1544cb"
      },
      "outputs": [
        {
          "output_type": "stream",
          "name": "stdout",
          "text": [
            "Qual o tamanho da sua senha? 8\n",
            "A senha gerada é:  1sKd\"~E6\n"
          ]
        }
      ],
      "source": [
        "from random import choice\n",
        "\n",
        "import string\n",
        "\n",
        "\n",
        "\n",
        "minha_senha = int(input(\"Qual o tamanho da sua senha? \"))\n",
        "\n",
        "caracteres = string.ascii_letters + string.digits + string.punctuation\n",
        "\n",
        "senha_protegida = ''\n",
        "\n",
        "for i in range(minha_senha):\n",
        "\n",
        " senha_protegida += choice(caracteres)\n",
        "\n",
        "\n",
        "\n",
        "print(\"A senha gerada é: \",senha_protegida)\n",
        "\n",
        "\n"
      ]
    }
  ]
}